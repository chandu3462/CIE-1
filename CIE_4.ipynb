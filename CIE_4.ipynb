{
  "nbformat": 4,
  "nbformat_minor": 0,
  "metadata": {
    "colab": {
      "private_outputs": true,
      "provenance": [],
      "authorship_tag": "ABX9TyNV4iafiJ0uuJmBAf3i1gWD",
      "include_colab_link": true
    },
    "kernelspec": {
      "name": "python3",
      "display_name": "Python 3"
    },
    "language_info": {
      "name": "python"
    }
  },
  "cells": [
    {
      "cell_type": "markdown",
      "metadata": {
        "id": "view-in-github",
        "colab_type": "text"
      },
      "source": [
        "<a href=\"https://colab.research.google.com/github/chandu3462/CIE-1/blob/main/CIE_4.ipynb\" target=\"_parent\"><img src=\"https://colab.research.google.com/assets/colab-badge.svg\" alt=\"Open In Colab\"/></a>"
      ]
    },
    {
      "cell_type": "code",
      "source": [
        "from sklearn.datasets import load_breast_cancer\n",
        "import matplotlib.pyplot as plt\n",
        "from sklearn.inspection import DecisionBoundaryDisplay\n",
        "from sklearn.svm import SVC\n",
        "cancer = load_breast_cancer()\n",
        "X = cancer.data[:, :2]\n",
        "y = cancer.target\n",
        "svm = SVC(kernel=\"rbf\", gamma=0.5, C=1.0)\n",
        "svm.fit(X, y)\n",
        "DecisionBoundaryDisplay.from_estimator(\n",
        "    svm,\n",
        "    X,\n",
        "    response_method=\"predict\",\n",
        "    cmap=plt.cm.Spectral,\n",
        "    alpha=0.8,\n",
        "    xlabel = cancer.feature_names[0],\n",
        "    ylabel =cancer.feature_names[1],\n",
        ")\n",
        "plt.scatter(X[:, 0], X[:, 1],\n",
        "c=y,\n",
        "s=20, edgecolors=\"k\")\n",
        "plt.show()"
      ],
      "metadata": {
        "id": "I0QSQiDZCOiU"
      },
      "execution_count": null,
      "outputs": []
    },
    {
      "cell_type": "code",
      "source": [],
      "metadata": {
        "id": "d0Vxzgx9DQ6Q"
      },
      "execution_count": null,
      "outputs": []
    }
  ]
}